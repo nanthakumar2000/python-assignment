{
  "nbformat": 4,
  "nbformat_minor": 0,
  "metadata": {
    "colab": {
      "name": "sample.ipynb",
      "provenance": [],
      "include_colab_link": true
    },
    "kernelspec": {
      "name": "python3",
      "display_name": "Python 3"
    }
  },
  "cells": [
    {
      "cell_type": "markdown",
      "metadata": {
        "id": "view-in-github",
        "colab_type": "text"
      },
      "source": [
        "<a href=\"https://colab.research.google.com/github/nanthakumar2000/python-assignment/blob/main/sample.ipynb\" target=\"_parent\"><img src=\"https://colab.research.google.com/assets/colab-badge.svg\" alt=\"Open In Colab\"/></a>"
      ]
    },
    {
      "cell_type": "code",
      "metadata": {
        "id": "CuRNoLh6lZUk",
        "colab": {
          "base_uri": "https://localhost:8080/"
        },
        "outputId": "4f08ca62-96c9-47b5-8ffc-936ee4af3a3c"
      },
      "source": [
        "x=int(input(\"enter the number: \"))\n",
        "y=(2*x+5)/(x**2+5*x+6)\n",
        "print(\"result is: \",y)"
      ],
      "execution_count": 9,
      "outputs": [
        {
          "output_type": "stream",
          "text": [
            "enter the number: 5\n",
            "result is:  0.26785714285714285\n"
          ],
          "name": "stdout"
        }
      ]
    },
    {
      "cell_type": "code",
      "metadata": {
        "id": "Cympb_nivh_X",
        "outputId": "4af1d3b3-5f1a-4b1f-f7d0-a1a09d925eb8",
        "colab": {
          "base_uri": "https://localhost:8080/"
        }
      },
      "source": [
        "x=int(input(\"enter the number: \"))\r\n",
        "y=(x**2+5*x+6)/(2*x+5)\r\n",
        "print(\"result is: \",y)"
      ],
      "execution_count": 11,
      "outputs": [
        {
          "output_type": "stream",
          "text": [
            "enter the number: 5\n",
            "result is:  3.7333333333333334\n"
          ],
          "name": "stdout"
        }
      ]
    },
    {
      "cell_type": "code",
      "metadata": {
        "id": "TilgoseL6huH",
        "outputId": "fec75aa1-fc31-41f2-f54c-dbe8168a8863",
        "colab": {
          "base_uri": "https://localhost:8080/"
        }
      },
      "source": [
        "x=int(input(\"enter the number: \"))\r\n",
        "y=(2*x-3)*(x-9)\r\n",
        "print(\"result is: \",y)"
      ],
      "execution_count": 16,
      "outputs": [
        {
          "output_type": "stream",
          "text": [
            "enter the number: 5\n",
            "result is:  -28\n"
          ],
          "name": "stdout"
        }
      ]
    },
    {
      "cell_type": "code",
      "metadata": {
        "id": "uof4RL95_NQe"
      },
      "source": [
        ""
      ],
      "execution_count": null,
      "outputs": []
    },
    {
      "cell_type": "code",
      "metadata": {
        "id": "EeHJOKJWmY4J"
      },
      "source": [
        ""
      ],
      "execution_count": null,
      "outputs": []
    }
  ]
}