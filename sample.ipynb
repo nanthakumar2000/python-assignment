{
  "nbformat": 4,
  "nbformat_minor": 0,
  "metadata": {
    "colab": {
      "name": "sample.ipynb",
      "provenance": [],
      "include_colab_link": true
    },
    "kernelspec": {
      "name": "python3",
      "display_name": "Python 3"
    }
  },
  "cells": [
    {
      "cell_type": "markdown",
      "metadata": {
        "id": "view-in-github",
        "colab_type": "text"
      },
      "source": [
        "<a href=\"https://colab.research.google.com/github/nanthakumar2000/python-assignment/blob/main/sample.ipynb\" target=\"_parent\"><img src=\"https://colab.research.google.com/assets/colab-badge.svg\" alt=\"Open In Colab\"/></a>"
      ]
    },
    {
      "cell_type": "code",
      "metadata": {
        "id": "CuRNoLh6lZUk",
        "colab": {
          "base_uri": "https://localhost:8080/"
        },
        "outputId": "c3e8ab6e-c902-4434-b9a1-db25f14a1b11"
      },
      "source": [
        "test_list=[1,5,3,6,3,5,6,1]\n",
        "print(\"The original list is:\" + str(test_list))\n",
        "test_list=list(set(test_list))\n",
        "print(\"the list after removing duplicates\" + str(test_list))"
      ],
      "execution_count": 6,
      "outputs": [
        {
          "output_type": "stream",
          "text": [
            "The original list is:[1, 5, 3, 6, 3, 5, 6, 1]\n",
            "the list after removing duplicates[1, 3, 5, 6]\n"
          ],
          "name": "stdout"
        }
      ]
    },
    {
      "cell_type": "code",
      "metadata": {
        "id": "EU3d7hmMcaUy",
        "outputId": "d10efcba-b2f6-4a45-b6f7-d15c12488ec8",
        "colab": {
          "base_uri": "https://localhost:8080/"
        }
      },
      "source": [
        "list1 = [1, 3, 5, 7, 9]\r\n",
        "list2=[1, 2, 4, 6, 7, 8]\r\n",
        "diff_list1_list2 = list(set(list1) - set(list2))\r\n",
        "diff_list2_list1 = list(set(list2) - set(list1))\r\n",
        "total_diff = diff_list1_list2 + diff_list2_list1\r\n",
        "print(total_diff)"
      ],
      "execution_count": 7,
      "outputs": [
        {
          "output_type": "stream",
          "text": [
            "[9, 3, 5, 8, 2, 4, 6]\n"
          ],
          "name": "stdout"
        }
      ]
    },
    {
      "cell_type": "code",
      "metadata": {
        "id": "C7rBAYXdciCk",
        "outputId": "d7c4e9b3-7de2-4ddf-e9db-2aec9c8cc4f3",
        "colab": {
          "base_uri": "https://localhost:8080/"
        }
      },
      "source": [
        "import collections\r\n",
        "my_list = [10,10,10,10,20,20,20,20,40,40,50,50,30]\r\n",
        "print(\"Original List : \",my_list)\r\n",
        "ctr = collections.Counter(my_list)\r\n",
        "print(\"Frequency of the elements in the List : \",ctr)\r\n"
      ],
      "execution_count": 8,
      "outputs": [
        {
          "output_type": "stream",
          "text": [
            "Original List :  [10, 10, 10, 10, 20, 20, 20, 20, 40, 40, 50, 50, 30]\n",
            "Frequency of the elements in the List :  Counter({10: 4, 20: 4, 40: 2, 50: 2, 30: 1})\n"
          ],
          "name": "stdout"
        }
      ]
    },
    {
      "cell_type": "code",
      "metadata": {
        "id": "Jqh4Fv8Ycn-K",
        "outputId": "e5e5e32a-e2cc-46c5-a59e-46e041693674",
        "colab": {
          "base_uri": "https://localhost:8080/"
        }
      },
      "source": [
        "from collections import Counter\r\n",
        "color1 = [\"red\", \"orange\", \"green\", \"blue\", \"white\"]\r\n",
        "color2 = [\"black\", \"yellow\", \"green\", \"blue\"]\r\n",
        "counter1 = Counter(color1)\r\n",
        "counter2 = Counter(color2)\r\n",
        "print(\"Color1-Color2: \",list(counter1 - counter2))\r\n",
        "print(\"Color2-Color1: \",list(counter2 - counter1))\r\n"
      ],
      "execution_count": 9,
      "outputs": [
        {
          "output_type": "stream",
          "text": [
            "Color1-Color2:  ['red', 'orange', 'white']\n",
            "Color2-Color1:  ['black', 'yellow']\n"
          ],
          "name": "stdout"
        }
      ]
    },
    {
      "cell_type": "code",
      "metadata": {
        "id": "EeHJOKJWmY4J"
      },
      "source": [
        ""
      ],
      "execution_count": null,
      "outputs": []
    }
  ]
}