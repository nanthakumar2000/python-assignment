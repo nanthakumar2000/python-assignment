{
  "nbformat": 4,
  "nbformat_minor": 0,
  "metadata": {
    "colab": {
      "name": "sample.ipynb",
      "provenance": [],
      "include_colab_link": true
    },
    "kernelspec": {
      "name": "python3",
      "display_name": "Python 3"
    }
  },
  "cells": [
    {
      "cell_type": "markdown",
      "metadata": {
        "id": "view-in-github",
        "colab_type": "text"
      },
      "source": [
        "<a href=\"https://colab.research.google.com/github/nanthakumar2000/python-assignment/blob/main/sample.ipynb\" target=\"_parent\"><img src=\"https://colab.research.google.com/assets/colab-badge.svg\" alt=\"Open In Colab\"/></a>"
      ]
    },
    {
      "cell_type": "code",
      "metadata": {
        "id": "CuRNoLh6lZUk",
        "colab": {
          "base_uri": "https://localhost:8080/"
        },
        "outputId": "cb4f699e-f756-48bb-ccf8-50ecffa42f28"
      },
      "source": [
        "x=int(input(\"Enter the number: \"))\n",
        "y =(2*x+5)/(x**2+5*x+6)\n",
        "print(\"result is:\",y)"
      ],
      "execution_count": 2,
      "outputs": [
        {
          "output_type": "stream",
          "text": [
            "Enter the number: 5\n",
            "result is: 0.26785714285714285\n"
          ],
          "name": "stdout"
        }
      ]
    },
    {
      "cell_type": "code",
      "metadata": {
        "id": "LclLXDLvXgvN",
        "outputId": "ffaf2f2e-00d5-40c5-a20d-8519cedf0aca",
        "colab": {
          "base_uri": "https://localhost:8080/"
        }
      },
      "source": [
        "x=int(input(\"Enter the number: \"))\r\n",
        "y =(x**2+5*x+6)/(2*x+5)\r\n",
        "print(\"result is:\",y)"
      ],
      "execution_count": 3,
      "outputs": [
        {
          "output_type": "stream",
          "text": [
            "Enter the number: 5\n",
            "result is: 3.7333333333333334\n"
          ],
          "name": "stdout"
        }
      ]
    },
    {
      "cell_type": "code",
      "metadata": {
        "id": "L2-HbvYTX953",
        "outputId": "e362b075-36be-498e-829c-e5478a8d2cb2",
        "colab": {
          "base_uri": "https://localhost:8080/"
        }
      },
      "source": [
        "x=int(input(\"Enter the number: \"))\r\n",
        "y =(2*x-3)*(x-9)\r\n",
        "print(\"result is:\",y)"
      ],
      "execution_count": 4,
      "outputs": [
        {
          "output_type": "stream",
          "text": [
            "Enter the number: 5\n",
            "result is: -28\n"
          ],
          "name": "stdout"
        }
      ]
    },
    {
      "cell_type": "code",
      "metadata": {
        "id": "XZdb5WKgYbQ0",
        "outputId": "5c474817-5432-4c1b-f0dd-e4269441702b",
        "colab": {
          "base_uri": "https://localhost:8080/"
        }
      },
      "source": [
        "print(\"Enter correct username and password combo to continue\")\r\n",
        "count=0\r\n",
        "password=\"nantha\"\r\n",
        "username=\"nantha\"\r\n",
        "\r\n",
        "while password!='Hytu76E' and username!='bank_admin' and count<4:\r\n",
        "    username=input(\"Enter username: \") \r\n",
        "    password=input(\"Enter password: \")\r\n",
        "\r\n",
        "    if password=='nantha' and username=='nantha':\r\n",
        "     print('Access granted')\r\n",
        "\r\n",
        "    else:\r\n",
        "        print('Access denied. Try again.')\r\n",
        "        count-=1"
      ],
      "execution_count": null,
      "outputs": [
        {
          "output_type": "stream",
          "text": [
            "Enter correct username and password combo to continue\n",
            "Enter username: nantha\n",
            "Enter password: nantha\n",
            "Access granted\n",
            "Enter username: nantha\n",
            "Enter password: kumar\n",
            "Access denied. Try again.\n",
            "Enter username: nantha\n",
            "Enter password: nantha\n",
            "Access granted\n"
          ],
          "name": "stdout"
        }
      ]
    },
    {
      "cell_type": "code",
      "metadata": {
        "id": "EeHJOKJWmY4J"
      },
      "source": [
        ""
      ],
      "execution_count": null,
      "outputs": []
    }
  ]
}