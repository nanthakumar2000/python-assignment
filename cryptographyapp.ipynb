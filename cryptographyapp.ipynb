{
  "nbformat": 4,
  "nbformat_minor": 0,
  "metadata": {
    "colab": {
      "name": "cryptographyapp.ipynb",
      "provenance": [],
      "authorship_tag": "ABX9TyPQct0umPyhneXKyc21KD25",
      "include_colab_link": true
    },
    "kernelspec": {
      "name": "python3",
      "display_name": "Python 3"
    }
  },
  "cells": [
    {
      "cell_type": "markdown",
      "metadata": {
        "id": "view-in-github",
        "colab_type": "text"
      },
      "source": [
        "<a href=\"https://colab.research.google.com/github/nanthakumar2000/python-assignment/blob/main/cryptographyapp.ipynb\" target=\"_parent\"><img src=\"https://colab.research.google.com/assets/colab-badge.svg\" alt=\"Open In Colab\"/></a>"
      ]
    },
    {
      "cell_type": "code",
      "metadata": {
        "id": "x2ateUx0Dw8z"
      },
      "source": [
        "import onetimepad\r\n",
        "\r\n",
        "from tkinter import *\r\n",
        "#import tkinter\r\n",
        "\r\n",
        "root= Tk()\r\n",
        "root.title(\"Cryptography app\")\r\n",
        "\r\n",
        "def encryptMessage():\r\n",
        "    a=var.get()\r\n",
        "    #Arun\r\n",
        "    ct=onetimepad.encrypt(a,\"Assignments\")\r\n",
        "    print(\"Working\",ct)\r\n",
        "    \r\n",
        "    e2.delete(0,END)\r\n",
        "    e2.insert(END,ct)\r\n",
        "    \r\n",
        "def dycryptMessage():\r\n",
        "    a=var2.get()\r\n",
        "    #Arun\r\n",
        "    ct=onetimepad.decrypt(a,\"Assignments\")\r\n",
        "    print(\"Working\",ct)\r\n",
        "    \r\n",
        "    e4.delete(0,END)\r\n",
        "    e4.insert(END,ct)\r\n",
        "    \r\n",
        "\r\n",
        "l1=Label(root, text=\"Plain Text\")\r\n",
        "l1.grid(row=0, column=0)\r\n",
        "\r\n",
        "l3=Label(root, text=\"Encrypted Text\")\r\n",
        "l3.grid(row=0, column=2)\r\n",
        "\r\n",
        "var=StringVar()\r\n",
        "e1= Entry(root, textvariable=var)\r\n",
        "e1.grid(row=0,column=1)\r\n",
        "\r\n",
        "var2=StringVar()\r\n",
        "e3= Entry(root, textvariable=var2)\r\n",
        "e3.grid(row=0,column=3)\r\n",
        "\r\n",
        "l2=Label(root, text=\"Encrypted Text\")\r\n",
        "l2.grid(row=1, column=0)\r\n",
        "\r\n",
        "l4=Label(root, text=\"Plain Text\")\r\n",
        "l4.grid(row=1, column=2)\r\n",
        "\r\n",
        "e2= Entry(root)\r\n",
        "e2.grid(row=1,column=1)\r\n",
        "\r\n",
        "e4= Entry(root)\r\n",
        "e4.grid(row=1,column=3)\r\n",
        "\r\n",
        "b1= Button(root, text=\"Encryption\", bg=\"turquoise\", fg=\"Red\", command=encryptMessage)\r\n",
        "b1.grid(row=2, column=1)\r\n",
        "\r\n",
        "b2= Button(root, text=\"Dycryption\", bg=\"turquoise\", fg=\"Red\", command=dycryptMessage)\r\n",
        "b2.grid(row=2, column=3)\r\n",
        "\r\n",
        "\r\n",
        "\r\n",
        "root.mainloop()"
      ],
      "execution_count": null,
      "outputs": []
    }
  ]
}