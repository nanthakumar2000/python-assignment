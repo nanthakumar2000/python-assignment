{
  "nbformat": 4,
  "nbformat_minor": 0,
  "metadata": {
    "colab": {
      "name": "Untitled0.ipynb",
      "provenance": [],
      "authorship_tag": "ABX9TyPL+kCZDXOLmx3nqEMLcvOj",
      "include_colab_link": true
    },
    "kernelspec": {
      "name": "python3",
      "display_name": "Python 3"
    }
  },
  "cells": [
    {
      "cell_type": "markdown",
      "metadata": {
        "id": "view-in-github",
        "colab_type": "text"
      },
      "source": [
        "<a href=\"https://colab.research.google.com/github/nanthakumar2000/python-assignment/blob/main/Untitled0.ipynb\" target=\"_parent\"><img src=\"https://colab.research.google.com/assets/colab-badge.svg\" alt=\"Open In Colab\"/></a>"
      ]
    },
    {
      "cell_type": "code",
      "metadata": {
        "colab": {
          "base_uri": "https://localhost:8080/"
        },
        "id": "NtbbivNqeWdD",
        "outputId": "19e16c65-4358-4c90-c3bd-04c377fd569b"
      },
      "source": [
        "x=int(input(\"Enter the number: \"))\r\n",
        "y = (2*x+5)/(x**2+5*x+6)\r\n",
        "print(\"the result is: \",y)\r\n"
      ],
      "execution_count": 8,
      "outputs": [
        {
          "output_type": "stream",
          "text": [
            "Enter the number: 5\n",
            "the result is:  0.26785714285714285\n"
          ],
          "name": "stdout"
        }
      ]
    },
    {
      "cell_type": "code",
      "metadata": {
        "colab": {
          "base_uri": "https://localhost:8080/"
        },
        "id": "h52BLQqAgVo2",
        "outputId": "9aa4820d-4a2e-47a3-b34d-7a0fe84eef48"
      },
      "source": [
        "x=int(input(\"Enter the number :\"))\r\n",
        "y=(x**2+5*x+6)/(2*x+5)\r\n",
        "print(\"the result is: \",y)\r\n"
      ],
      "execution_count": 7,
      "outputs": [
        {
          "output_type": "stream",
          "text": [
            "Enter the number :5\n",
            "the result is:  3.7333333333333334\n"
          ],
          "name": "stdout"
        }
      ]
    },
    {
      "cell_type": "code",
      "metadata": {
        "colab": {
          "base_uri": "https://localhost:8080/"
        },
        "id": "bs_uCvTvghQY",
        "outputId": "54bc8587-6eff-47c2-97b3-963a48a3784c"
      },
      "source": [
        "x=int(input(\"Enter the number: \"))\r\n",
        "y=(2*x-3)*(x-9)\r\n",
        "print(\"the result is: \",y)"
      ],
      "execution_count": 6,
      "outputs": [
        {
          "output_type": "stream",
          "text": [
            "Enter the number: 5\n",
            "the result is:  -28\n"
          ],
          "name": "stdout"
        }
      ]
    },
    {
      "cell_type": "code",
      "metadata": {
        "colab": {
          "base_uri": "https://localhost:8080/"
        },
        "id": "KiWLFzfLg6rX",
        "outputId": "21387a35-26b2-49f3-c3b3-7131a6f6f40f"
      },
      "source": [
        "print(\"Enter correct username and password combo to continue\")\r\n",
        "count=0\r\n",
        "password=\"nantha\"\r\n",
        "username=\"nantha\"\r\n",
        "\r\n",
        "while password!='Hytu76E' and username!='bank_admin' and count<4:\r\n",
        "    username=input(\"Enter username: \") \r\n",
        "    password=input(\"Enter password: \")\r\n",
        "\r\n",
        "    if password=='nantha' and username=='nantha':\r\n",
        "     print('Access granted')\r\n",
        "\r\n",
        "    else:\r\n",
        "        print('Access denied. Try again.')\r\n",
        "        count-=1"
      ],
      "execution_count": null,
      "outputs": [
        {
          "output_type": "stream",
          "text": [
            "Enter correct username and password combo to continue\n",
            "Enter username: nantha\n",
            "Enter password: nantha\n",
            "Access granted\n",
            "Enter username: nantha\n",
            "Enter password: kumar\n",
            "Access denied. Try again.\n",
            "Enter username: nantha\n",
            "Enter password: nantha\n",
            "Access granted\n"
          ],
          "name": "stdout"
        }
      ]
    }
  ]
}