{
  "nbformat": 4,
  "nbformat_minor": 0,
  "metadata": {
    "colab": {
      "name": "assignment3.ipynb",
      "provenance": [],
      "authorship_tag": "ABX9TyNsBE2iANMUn3lVV1H6Ubnh",
      "include_colab_link": true
    },
    "kernelspec": {
      "name": "python3",
      "display_name": "Python 3"
    }
  },
  "cells": [
    {
      "cell_type": "markdown",
      "metadata": {
        "id": "view-in-github",
        "colab_type": "text"
      },
      "source": [
        "<a href=\"https://colab.research.google.com/github/nanthakumar2000/python-assignment/blob/main/assignment3.ipynb\" target=\"_parent\"><img src=\"https://colab.research.google.com/assets/colab-badge.svg\" alt=\"Open In Colab\"/></a>"
      ]
    },
    {
      "cell_type": "code",
      "metadata": {
        "colab": {
          "base_uri": "https://localhost:8080/"
        },
        "id": "asAOrKAkhQQa",
        "outputId": "9720b66b-0a6d-471b-a0ef-a245990718cf"
      },
      "source": [
        "def max_of_two( x, y ):\r\n",
        "    if x > y:\r\n",
        "        return x\r\n",
        "    return y\r\n",
        "def max_of_three( x, y, z ):\r\n",
        "    return max_of_two( x, max_of_two( y, z ) )\r\n",
        "print(max_of_three(3, 6, -5))"
      ],
      "execution_count": 1,
      "outputs": [
        {
          "output_type": "stream",
          "text": [
            "6\n"
          ],
          "name": "stdout"
        }
      ]
    },
    {
      "cell_type": "code",
      "metadata": {
        "colab": {
          "base_uri": "https://localhost:8080/"
        },
        "id": "-DcPk_bWiGRl",
        "outputId": "d7fb4a10-d2dd-4505-bb1b-99918d5ee474"
      },
      "source": [
        "def isPalindrome(string):\r\n",
        "\tleft_pos = 0\r\n",
        "\tright_pos = len(string) - 1\r\n",
        "\t\r\n",
        "\twhile right_pos >= left_pos:\r\n",
        "\t\tif not string[left_pos] == string[right_pos]:\r\n",
        "\t\t\treturn False\r\n",
        "\t\tleft_pos += 1\r\n",
        "\t\tright_pos -= 1\r\n",
        "\treturn True\r\n",
        "print(isPalindrome('aza'))"
      ],
      "execution_count": 2,
      "outputs": [
        {
          "output_type": "stream",
          "text": [
            "True\n"
          ],
          "name": "stdout"
        }
      ]
    },
    {
      "cell_type": "code",
      "metadata": {
        "colab": {
          "base_uri": "https://localhost:8080/"
        },
        "id": "-u2lY2fiijOg",
        "outputId": "7112a125-659e-474b-947b-ca1224ca0cd7"
      },
      "source": [
        "def string_test(s):\r\n",
        "    d={\"UPPER_CASE\":0, \"LOWER_CASE\":0}\r\n",
        "    for c in s:\r\n",
        "        if c.isupper():\r\n",
        "           d[\"UPPER_CASE\"]+=1\r\n",
        "        elif c.islower():\r\n",
        "           d[\"LOWER_CASE\"]+=1\r\n",
        "        else:\r\n",
        "           pass\r\n",
        "    print (\"Original String : \", s)\r\n",
        "    print (\"No. of Upper case characters : \", d[\"UPPER_CASE\"])\r\n",
        "    print (\"No. of Lower case Characters : \", d[\"LOWER_CASE\"])\r\n",
        "\r\n",
        "string_test('The quick Brown Fox')"
      ],
      "execution_count": 3,
      "outputs": [
        {
          "output_type": "stream",
          "text": [
            "Original String :  The quick Brown Fox\n",
            "No. of Upper case characters :  3\n",
            "No. of Lower case Characters :  13\n"
          ],
          "name": "stdout"
        }
      ]
    },
    {
      "cell_type": "code",
      "metadata": {
        "colab": {
          "base_uri": "https://localhost:8080/"
        },
        "id": "i-PEtq0ajDzh",
        "outputId": "09be4406-81f3-4ab8-efdc-a44e2b0cbd41"
      },
      "source": [
        "def sum(numbers):\r\n",
        "    total = 0\r\n",
        "    for x in numbers:\r\n",
        "        total += x\r\n",
        "    return total\r\n",
        "print(sum((8, 2, 3, 0, 7)))"
      ],
      "execution_count": 4,
      "outputs": [
        {
          "output_type": "stream",
          "text": [
            "20\n"
          ],
          "name": "stdout"
        }
      ]
    },
    {
      "cell_type": "code",
      "metadata": {
        "colab": {
          "base_uri": "https://localhost:8080/"
        },
        "id": "dPNkMYlJjNOU",
        "outputId": "89da8da3-9127-48b6-a63d-cd43f76da556"
      },
      "source": [
        "def multiply(numbers):  \r\n",
        "    total = 1\r\n",
        "    for x in numbers:\r\n",
        "        total *= x  \r\n",
        "    return total  \r\n",
        "print(multiply((8, 2, 3, -1, 7)))"
      ],
      "execution_count": 5,
      "outputs": [
        {
          "output_type": "stream",
          "text": [
            "-336\n"
          ],
          "name": "stdout"
        }
      ]
    },
    {
      "cell_type": "code",
      "metadata": {
        "colab": {
          "base_uri": "https://localhost:8080/"
        },
        "id": "5NxwxY-Zjdmh",
        "outputId": "9a2cc344-aa1b-4d67-8915-9b05fa211e8f"
      },
      "source": [
        "def unique_list(l):\r\n",
        "  x = []\r\n",
        "  for a in l:\r\n",
        "    if a not in x:\r\n",
        "      x.append(a)\r\n",
        "  return x\r\n",
        "\r\n",
        "print(unique_list([1,2,3,3,3,3,4,5]))"
      ],
      "execution_count": 6,
      "outputs": [
        {
          "output_type": "stream",
          "text": [
            "[1, 2, 3, 4, 5]\n"
          ],
          "name": "stdout"
        }
      ]
    },
    {
      "cell_type": "code",
      "metadata": {
        "id": "g-7cg9ZmkbtB"
      },
      "source": [
        ""
      ],
      "execution_count": null,
      "outputs": []
    }
  ]
}